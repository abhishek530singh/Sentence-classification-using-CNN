{
  "nbformat": 4,
  "nbformat_minor": 0,
  "metadata": {
    "colab": {
      "provenance": []
    },
    "kernelspec": {
      "name": "python3",
      "display_name": "Python 3"
    },
    "language_info": {
      "name": "python"
    },
    "accelerator": "GPU",
    "gpuClass": "standard"
  },
  "cells": [
    {
      "cell_type": "code",
      "execution_count": null,
      "metadata": {
        "id": "OkSnN0TdKh3u"
      },
      "outputs": [],
      "source": []
    },
    {
      "cell_type": "code",
      "source": [
        "from google.colab import drive\n",
        "drive.mount('/content/drive')"
      ],
      "metadata": {
        "id": "Q5et5hG9K2sp",
        "colab": {
          "base_uri": "https://localhost:8080/"
        },
        "outputId": "2a76e0b1-f2a5-420a-d60b-fb88816e5b1d"
      },
      "execution_count": null,
      "outputs": [
        {
          "output_type": "stream",
          "name": "stdout",
          "text": [
            "Mounted at /content/drive\n"
          ]
        }
      ]
    },
    {
      "cell_type": "code",
      "source": [
        "import pandas as pd\n",
        "df = pd.read_csv('main.txt', delimiter = '\\t', engine='python', quoting = 3,names=['review','status'])"
      ],
      "metadata": {
        "id": "oN2nSCR0K46n"
      },
      "execution_count": null,
      "outputs": []
    },
    {
      "cell_type": "code",
      "source": [
        "df.head()\n"
      ],
      "metadata": {
        "colab": {
          "base_uri": "https://localhost:8080/",
          "height": 206
        },
        "id": "oLKanW4vK-nY",
        "outputId": "3e3d3f02-0d65-484e-db1c-4dc525c53930"
      },
      "execution_count": null,
      "outputs": [
        {
          "output_type": "execute_result",
          "data": {
            "text/plain": [
              "                                              review  status\n",
              "0  So there is no way for me to plug it in here i...       0\n",
              "1                        Good case, Excellent value.       1\n",
              "2                             Great for the jawbone.       1\n",
              "3  Tied to charger for conversations lasting more...       0\n",
              "4                                  The mic is great.       1"
            ],
            "text/html": [
              "\n",
              "  <div id=\"df-60d268d0-b846-4732-ae2e-3f33c4cc3f39\">\n",
              "    <div class=\"colab-df-container\">\n",
              "      <div>\n",
              "<style scoped>\n",
              "    .dataframe tbody tr th:only-of-type {\n",
              "        vertical-align: middle;\n",
              "    }\n",
              "\n",
              "    .dataframe tbody tr th {\n",
              "        vertical-align: top;\n",
              "    }\n",
              "\n",
              "    .dataframe thead th {\n",
              "        text-align: right;\n",
              "    }\n",
              "</style>\n",
              "<table border=\"1\" class=\"dataframe\">\n",
              "  <thead>\n",
              "    <tr style=\"text-align: right;\">\n",
              "      <th></th>\n",
              "      <th>review</th>\n",
              "      <th>status</th>\n",
              "    </tr>\n",
              "  </thead>\n",
              "  <tbody>\n",
              "    <tr>\n",
              "      <th>0</th>\n",
              "      <td>So there is no way for me to plug it in here i...</td>\n",
              "      <td>0</td>\n",
              "    </tr>\n",
              "    <tr>\n",
              "      <th>1</th>\n",
              "      <td>Good case, Excellent value.</td>\n",
              "      <td>1</td>\n",
              "    </tr>\n",
              "    <tr>\n",
              "      <th>2</th>\n",
              "      <td>Great for the jawbone.</td>\n",
              "      <td>1</td>\n",
              "    </tr>\n",
              "    <tr>\n",
              "      <th>3</th>\n",
              "      <td>Tied to charger for conversations lasting more...</td>\n",
              "      <td>0</td>\n",
              "    </tr>\n",
              "    <tr>\n",
              "      <th>4</th>\n",
              "      <td>The mic is great.</td>\n",
              "      <td>1</td>\n",
              "    </tr>\n",
              "  </tbody>\n",
              "</table>\n",
              "</div>\n",
              "      <button class=\"colab-df-convert\" onclick=\"convertToInteractive('df-60d268d0-b846-4732-ae2e-3f33c4cc3f39')\"\n",
              "              title=\"Convert this dataframe to an interactive table.\"\n",
              "              style=\"display:none;\">\n",
              "        \n",
              "  <svg xmlns=\"http://www.w3.org/2000/svg\" height=\"24px\"viewBox=\"0 0 24 24\"\n",
              "       width=\"24px\">\n",
              "    <path d=\"M0 0h24v24H0V0z\" fill=\"none\"/>\n",
              "    <path d=\"M18.56 5.44l.94 2.06.94-2.06 2.06-.94-2.06-.94-.94-2.06-.94 2.06-2.06.94zm-11 1L8.5 8.5l.94-2.06 2.06-.94-2.06-.94L8.5 2.5l-.94 2.06-2.06.94zm10 10l.94 2.06.94-2.06 2.06-.94-2.06-.94-.94-2.06-.94 2.06-2.06.94z\"/><path d=\"M17.41 7.96l-1.37-1.37c-.4-.4-.92-.59-1.43-.59-.52 0-1.04.2-1.43.59L10.3 9.45l-7.72 7.72c-.78.78-.78 2.05 0 2.83L4 21.41c.39.39.9.59 1.41.59.51 0 1.02-.2 1.41-.59l7.78-7.78 2.81-2.81c.8-.78.8-2.07 0-2.86zM5.41 20L4 18.59l7.72-7.72 1.47 1.35L5.41 20z\"/>\n",
              "  </svg>\n",
              "      </button>\n",
              "      \n",
              "  <style>\n",
              "    .colab-df-container {\n",
              "      display:flex;\n",
              "      flex-wrap:wrap;\n",
              "      gap: 12px;\n",
              "    }\n",
              "\n",
              "    .colab-df-convert {\n",
              "      background-color: #E8F0FE;\n",
              "      border: none;\n",
              "      border-radius: 50%;\n",
              "      cursor: pointer;\n",
              "      display: none;\n",
              "      fill: #1967D2;\n",
              "      height: 32px;\n",
              "      padding: 0 0 0 0;\n",
              "      width: 32px;\n",
              "    }\n",
              "\n",
              "    .colab-df-convert:hover {\n",
              "      background-color: #E2EBFA;\n",
              "      box-shadow: 0px 1px 2px rgba(60, 64, 67, 0.3), 0px 1px 3px 1px rgba(60, 64, 67, 0.15);\n",
              "      fill: #174EA6;\n",
              "    }\n",
              "\n",
              "    [theme=dark] .colab-df-convert {\n",
              "      background-color: #3B4455;\n",
              "      fill: #D2E3FC;\n",
              "    }\n",
              "\n",
              "    [theme=dark] .colab-df-convert:hover {\n",
              "      background-color: #434B5C;\n",
              "      box-shadow: 0px 1px 3px 1px rgba(0, 0, 0, 0.15);\n",
              "      filter: drop-shadow(0px 1px 2px rgba(0, 0, 0, 0.3));\n",
              "      fill: #FFFFFF;\n",
              "    }\n",
              "  </style>\n",
              "\n",
              "      <script>\n",
              "        const buttonEl =\n",
              "          document.querySelector('#df-60d268d0-b846-4732-ae2e-3f33c4cc3f39 button.colab-df-convert');\n",
              "        buttonEl.style.display =\n",
              "          google.colab.kernel.accessAllowed ? 'block' : 'none';\n",
              "\n",
              "        async function convertToInteractive(key) {\n",
              "          const element = document.querySelector('#df-60d268d0-b846-4732-ae2e-3f33c4cc3f39');\n",
              "          const dataTable =\n",
              "            await google.colab.kernel.invokeFunction('convertToInteractive',\n",
              "                                                     [key], {});\n",
              "          if (!dataTable) return;\n",
              "\n",
              "          const docLinkHtml = 'Like what you see? Visit the ' +\n",
              "            '<a target=\"_blank\" href=https://colab.research.google.com/notebooks/data_table.ipynb>data table notebook</a>'\n",
              "            + ' to learn more about interactive tables.';\n",
              "          element.innerHTML = '';\n",
              "          dataTable['output_type'] = 'display_data';\n",
              "          await google.colab.output.renderOutput(dataTable, element);\n",
              "          const docLink = document.createElement('div');\n",
              "          docLink.innerHTML = docLinkHtml;\n",
              "          element.appendChild(docLink);\n",
              "        }\n",
              "      </script>\n",
              "    </div>\n",
              "  </div>\n",
              "  "
            ]
          },
          "metadata": {},
          "execution_count": 3
        }
      ]
    },
    {
      "cell_type": "code",
      "source": [
        "import re\n",
        "def clean_data(review):\n",
        "    review = re.sub('[^a-zA-Z]', ' ',review)\n",
        "    review = review.lower()\n",
        "    return review"
      ],
      "metadata": {
        "id": "4Dsdc4phLHqs"
      },
      "execution_count": null,
      "outputs": []
    },
    {
      "cell_type": "code",
      "source": [
        "df['review'] = df['review'].apply(clean_data)"
      ],
      "metadata": {
        "id": "eeE3nM4wLckC"
      },
      "execution_count": null,
      "outputs": []
    },
    {
      "cell_type": "code",
      "source": [
        "import nltk\n",
        "nltk.download('stopwords')"
      ],
      "metadata": {
        "colab": {
          "base_uri": "https://localhost:8080/"
        },
        "id": "AIrWeue2LeYN",
        "outputId": "5d2b83bb-db6f-48f3-8a70-c76c2284921c"
      },
      "execution_count": null,
      "outputs": [
        {
          "output_type": "stream",
          "name": "stderr",
          "text": [
            "[nltk_data] Downloading package stopwords to /root/nltk_data...\n",
            "[nltk_data]   Unzipping corpora/stopwords.zip.\n"
          ]
        },
        {
          "output_type": "execute_result",
          "data": {
            "text/plain": [
              "True"
            ]
          },
          "metadata": {},
          "execution_count": 6
        }
      ]
    },
    {
      "cell_type": "code",
      "source": [
        "def remove_stop_words(review):\n",
        "  review_minus_sw = []\n",
        "  stop_words = nltk.corpus.stopwords.words('english')\n",
        "  review = review.split()\n",
        "  review = [review_minus_sw.append(word) for word in review if word not in stop_words]\n",
        "  review = ' '.join(review_minus_sw)\n",
        "  return review"
      ],
      "metadata": {
        "id": "TnJcs6cULhxY"
      },
      "execution_count": null,
      "outputs": []
    },
    {
      "cell_type": "code",
      "source": [
        "df['review'] = df['review'].apply(remove_stop_words)"
      ],
      "metadata": {
        "id": "1zmL96GiLrCb"
      },
      "execution_count": null,
      "outputs": []
    },
    {
      "cell_type": "code",
      "source": [
        "nltk.download('wordnet')\n",
        "#WordNet is a lexical database of English.\n",
        "#Using synsets, helps find conceptual relationships between words\n",
        "# such as hypernyms, hyponyms, synonyms, antonyms etc.\n",
        "from nltk.corpus import stopwords\n",
        "from nltk.stem import WordNetLemmatizer\n",
        "\n",
        "def lematize(review):\n",
        "    review = review.split()\n",
        "    lemmatizer=WordNetLemmatizer()\n",
        "    review = [lemmatizer.lemmatize(w) for w in review]\n",
        "    review = ' '.join(review)\n",
        "    return review"
      ],
      "metadata": {
        "colab": {
          "base_uri": "https://localhost:8080/"
        },
        "id": "jorIqYLRMG1u",
        "outputId": "76521d53-96a9-485b-f55c-9c71d2a67642"
      },
      "execution_count": null,
      "outputs": [
        {
          "output_type": "stream",
          "name": "stderr",
          "text": [
            "[nltk_data] Downloading package wordnet to /root/nltk_data...\n"
          ]
        }
      ]
    },
    {
      "cell_type": "code",
      "source": [
        "df['review'] = df['review'].apply(lematize)"
      ],
      "metadata": {
        "id": "nFhWAK9kMpiT"
      },
      "execution_count": null,
      "outputs": []
    },
    {
      "cell_type": "code",
      "source": [
        "corpus = list(df['review'])"
      ],
      "metadata": {
        "id": "JJSNdZd7NIYW"
      },
      "execution_count": null,
      "outputs": []
    },
    {
      "cell_type": "code",
      "source": [],
      "metadata": {
        "id": "aqfCUEifPEu6"
      },
      "execution_count": null,
      "outputs": []
    },
    {
      "cell_type": "code",
      "source": [
        "from sklearn.feature_extraction.text import CountVectorizer\n",
        "cv = CountVectorizer(max_features = 1000)\n",
        " # Stop words are common words in English that don't tell us anything about the polarity of a review.\n",
        "    # Such words include the, that, and a\n",
        "# Converts a collection of text documents to a matrix of token counts\n",
        "# max_features = maximum number of words we'd like to have in our bag of words model\n",
        "X = cv.fit_transform(corpus).toarray()\n",
        "y = df['status'].values"
      ],
      "metadata": {
        "id": "pBzNTAPvOMjY"
      },
      "execution_count": null,
      "outputs": []
    },
    {
      "cell_type": "code",
      "source": [
        "#cv.get_feature_names()\n",
        "cv.get_feature_names_out()"
      ],
      "metadata": {
        "colab": {
          "base_uri": "https://localhost:8080/"
        },
        "id": "oQifz9EMOOyK",
        "outputId": "0016c476-477a-4a59-b25f-9b005f7a8080"
      },
      "execution_count": null,
      "outputs": [
        {
          "output_type": "execute_result",
          "data": {
            "text/plain": [
              "array(['ability', 'able', 'absolutely', 'acting', 'action', 'actor',\n",
              "       'actress', 'actually', 'addition', 'adorable', 'advise', 'age',\n",
              "       'ago', 'almost', 'along', 'already', 'also', 'although', 'always',\n",
              "       'amazing', 'amazon', 'ambiance', 'american', 'amount', 'angle',\n",
              "       'annoying', 'another', 'anyone', 'anything', 'anytime', 'anyway',\n",
              "       'appealing', 'appearance', 'appreciate', 'area', 'around',\n",
              "       'arrived', 'art', 'ask', 'asked', 'aspect', 'atmosphere',\n",
              "       'attempt', 'attention', 'attentive', 'audience', 'audio',\n",
              "       'authentic', 'average', 'avoid', 'away', 'awesome', 'awful',\n",
              "       'back', 'bacon', 'bad', 'bar', 'barely', 'bargain', 'basically',\n",
              "       'bathroom', 'battery', 'bay', 'bean', 'beat', 'beautiful',\n",
              "       'become', 'beef', 'beep', 'beer', 'begin', 'beginning', 'behind',\n",
              "       'believable', 'believe', 'belly', 'belt', 'best', 'better',\n",
              "       'beyond', 'big', 'bill', 'billy', 'bit', 'bite', 'black', 'bland',\n",
              "       'blue', 'bluetooth', 'book', 'boot', 'bored', 'boring', 'bother',\n",
              "       'bought', 'box', 'boy', 'boyfriend', 'brain', 'bread', 'break',\n",
              "       'breakfast', 'brilliant', 'bring', 'broke', 'bt', 'budget',\n",
              "       'buffet', 'bunch', 'burger', 'business', 'button', 'buy', 'buying',\n",
              "       'cable', 'call', 'called', 'came', 'camera', 'cannot', 'cant',\n",
              "       'car', 'care', 'carry', 'cartoon', 'case', 'cast', 'casting',\n",
              "       'cell', 'certainly', 'character', 'charge', 'charged', 'charger',\n",
              "       'charging', 'charles', 'charm', 'charming', 'cheap', 'check',\n",
              "       'checked', 'chef', 'chemistry', 'chicken', 'child', 'chinese',\n",
              "       'chip', 'choice', 'christmas', 'cinema', 'cinematography',\n",
              "       'cingular', 'clarity', 'classic', 'clean', 'clear', 'clearly',\n",
              "       'clever', 'clip', 'close', 'cold', 'color', 'come', 'comedy',\n",
              "       'comfortable', 'comfortably', 'coming', 'company', 'complaint',\n",
              "       'complete', 'completely', 'computer', 'conclusion', 'connection',\n",
              "       'consider', 'considering', 'contact', 'control', 'conversation',\n",
              "       'convincing', 'cooked', 'cool', 'cost', 'could', 'couple',\n",
              "       'course', 'cover', 'crap', 'crazy', 'cream', 'created', 'credit',\n",
              "       'crisp', 'crowd', 'cult', 'customer', 'cut', 'cute', 'damn',\n",
              "       'dance', 'dark', 'data', 'date', 'daughter', 'day', 'dead', 'deal',\n",
              "       'death', 'decent', 'decision', 'definitely', 'delicious',\n",
              "       'delight', 'depth', 'description', 'deserves', 'design', 'despite',\n",
              "       'dessert', 'device', 'dialog', 'dialogue', 'different',\n",
              "       'difficult', 'dining', 'dinner', 'directed', 'directing',\n",
              "       'direction', 'director', 'dirty', 'disappointed', 'disappointing',\n",
              "       'disappointment', 'disgusting', 'dish', 'documentary', 'dog',\n",
              "       'done', 'dont', 'drago', 'drain', 'drama', 'drink', 'drive',\n",
              "       'drop', 'dropped', 'dry', 'due', 'ear', 'earbud', 'earlier',\n",
              "       'early', 'earpiece', 'ease', 'easier', 'easily', 'easy', 'eat',\n",
              "       'eaten', 'eating', 'ed', 'edge', 'edible', 'editing', 'effect',\n",
              "       'effective', 'effort', 'egg', 'either', 'else', 'elsewhere',\n",
              "       'embarrassing', 'emotion', 'empty', 'end', 'ended', 'ending',\n",
              "       'energy', 'enjoy', 'enjoyable', 'enjoyed', 'enough',\n",
              "       'entertaining', 'entire', 'episode', 'equally', 'era',\n",
              "       'especially', 'establishment', 'etc', 'even', 'ever', 'every',\n",
              "       'everyone', 'everything', 'everywhere', 'exactly', 'excellent',\n",
              "       'exceptional', 'excuse', 'expect', 'expected', 'expensive',\n",
              "       'experience', 'experienced', 'explain', 'exquisite', 'extra',\n",
              "       'extremely', 'eye', 'fabulous', 'face', 'fact', 'failed', 'fails',\n",
              "       'fairly', 'fall', 'falling', 'family', 'fan', 'fantastic', 'far',\n",
              "       'fare', 'fast', 'fat', 'father', 'faux', 'favorite', 'favourite',\n",
              "       'fear', 'feature', 'feel', 'feeling', 'felt', 'film', 'final',\n",
              "       'finally', 'find', 'fine', 'fire', 'first', 'fish', 'fit', 'five',\n",
              "       'flat', 'flavor', 'flaw', 'flick', 'flip', 'folk', 'follow',\n",
              "       'food', 'foot', 'forever', 'forget', 'form', 'found', 'free',\n",
              "       'fresh', 'fried', 'friend', 'friendly', 'front', 'frozen', 'fry',\n",
              "       'full', 'fun', 'function', 'funny', 'fx', 'gadget', 'game',\n",
              "       'garbage', 'gave', 'gem', 'generally', 'generous', 'genuine',\n",
              "       'get', 'getting', 'giallo', 'girl', 'girlfriend', 'give', 'given',\n",
              "       'giving', 'glad', 'glance', 'glass', 'go', 'god', 'going', 'gone',\n",
              "       'good', 'got', 'gotten', 'graphic', 'great', 'greatest', 'green',\n",
              "       'guess', 'guy', 'hair', 'half', 'hand', 'happened', 'happier',\n",
              "       'happy', 'hard', 'hate', 'hated', 'head', 'headphone', 'headset',\n",
              "       'hear', 'heard', 'heart', 'help', 'helpful', 'high', 'highly',\n",
              "       'hilarious', 'history', 'hit', 'hitchcock', 'hold', 'hole', 'home',\n",
              "       'honest', 'honestly', 'hope', 'horrible', 'horror', 'hot', 'hour',\n",
              "       'house', 'however', 'huge', 'human', 'husband', 'ice', 'idea',\n",
              "       'im', 'imagination', 'immediately', 'important', 'impressed',\n",
              "       'impressive', 'included', 'including', 'incredible', 'incredibly',\n",
              "       'indeed', 'inside', 'instead', 'instruction', 'insult',\n",
              "       'intelligence', 'intelligent', 'interesting', 'internet',\n",
              "       'involved', 'issue', 'italian', 'item', 'jabra', 'james', 'job',\n",
              "       'john', 'joke', 'joy', 'junk', 'keep', 'kept', 'keyboard', 'kid',\n",
              "       'killer', 'kind', 'know', 'known', 'lack', 'lacked', 'lacking',\n",
              "       'lady', 'lame', 'large', 'last', 'later', 'le', 'lead', 'leaf',\n",
              "       'least', 'leather', 'leave', 'left', 'let', 'level', 'lg', 'life',\n",
              "       'light', 'lightweight', 'like', 'liked', 'line', 'list',\n",
              "       'literally', 'little', 'live', 'living', 'location', 'long',\n",
              "       'longer', 'look', 'looked', 'looking', 'lost', 'lot', 'loud',\n",
              "       'love', 'loved', 'lovely', 'low', 'lunch', 'made', 'main', 'make',\n",
              "       'making', 'man', 'management', 'manager', 'many', 'market',\n",
              "       'massive', 'master', 'masterpiece', 'may', 'maybe', 'meal', 'mean',\n",
              "       'meaning', 'meat', 'mediocre', 'memorable', 'memory', 'mention',\n",
              "       'menu', 'mess', 'mexican', 'mic', 'mickey', 'might', 'min', 'mind',\n",
              "       'minute', 'missed', 'mistake', 'mobile', 'moment', 'money',\n",
              "       'month', 'mostly', 'motorola', 'mouth', 'movie', 'moving', 'mp',\n",
              "       'much', 'music', 'must', 'nasty', 'nearly', 'need', 'needed',\n",
              "       'network', 'never', 'new', 'next', 'nice', 'night', 'noise',\n",
              "       'nokia', 'non', 'none', 'note', 'nothing', 'number', 'nut',\n",
              "       'obviously', 'occasionally', 'offer', 'often', 'oh', 'ok', 'old',\n",
              "       'one', 'option', 'order', 'ordered', 'original', 'others',\n",
              "       'outlet', 'outside', 'overall', 'overpriced', 'owned', 'owner',\n",
              "       'paid', 'pair', 'pairing', 'palm', 'paper', 'par', 'part',\n",
              "       'particular', 'particularly', 'party', 'passed', 'past', 'pasta',\n",
              "       'pathetic', 'pay', 'pc', 'people', 'perfect', 'perfectly',\n",
              "       'performance', 'perhaps', 'period', 'person', 'pg', 'pho',\n",
              "       'phoenix', 'phone', 'photography', 'picture', 'piece', 'pita',\n",
              "       'pitiful', 'pizza', 'place', 'placed', 'plain', 'plan',\n",
              "       'plantronics', 'plastic', 'play', 'played', 'player', 'playing',\n",
              "       'pleasant', 'please', 'pleased', 'plenty', 'plot', 'plug', 'plus',\n",
              "       'pocket', 'point', 'poor', 'poorly', 'pork', 'portion',\n",
              "       'portrayal', 'possible', 'potato', 'power', 'predictable',\n",
              "       'premise', 'pretentious', 'pretty', 'previous', 'price', 'priced',\n",
              "       'probably', 'problem', 'product', 'production', 'provided', 'pull',\n",
              "       'puppet', 'purchase', 'purchased', 'put', 'quality', 'quick',\n",
              "       'quickly', 'quite', 'range', 'rare', 'rate', 'rated', 'rather',\n",
              "       'rating', 'ray', 'razr', 'reading', 'ready', 'real', 'really',\n",
              "       'reason', 'reasonable', 'reasonably', 'received', 'recent',\n",
              "       'recently', 'reception', 'recommend', 'recommended', 'red',\n",
              "       'relationship', 'remember', 'rent', 'replace', 'rest',\n",
              "       'restaurant', 'result', 'return', 'review', 'reviewer', 'rice',\n",
              "       'ridiculous', 'right', 'ringtones', 'rock', 'role', 'roll', 'room',\n",
              "       'rude', 'run', 'running', 'sad', 'said', 'salad', 'salmon',\n",
              "       'samsung', 'sandwich', 'sat', 'satisfied', 'sauce', 'saw', 'say',\n",
              "       'scamp', 'scene', 'screen', 'script', 'seafood', 'seated',\n",
              "       'second', 'see', 'seeing', 'seem', 'seemed', 'seems', 'seen',\n",
              "       'selection', 'self', 'seller', 'sending', 'sense', 'series',\n",
              "       'serious', 'seriously', 'served', 'server', 'service', 'set',\n",
              "       'setting', 'several', 'share', 'shipping', 'short', 'shot', 'show',\n",
              "       'showed', 'shrimp', 'sick', 'side', 'sign', 'signal', 'silent',\n",
              "       'simple', 'simply', 'since', 'singing', 'single', 'sister',\n",
              "       'sitting', 'situation', 'size', 'slow', 'small', 'smell',\n",
              "       'software', 'solid', 'someone', 'something', 'sometimes',\n",
              "       'somewhat', 'son', 'song', 'soon', 'sound', 'sounded',\n",
              "       'soundtrack', 'soup', 'space', 'special', 'speed', 'spend',\n",
              "       'spent', 'spicy', 'spoiler', 'spot', 'spring', 'sprint', 'staff',\n",
              "       'stage', 'star', 'start', 'started', 'station', 'stay', 'steak',\n",
              "       'steve', 'stick', 'still', 'stink', 'stomach', 'stop', 'store',\n",
              "       'story', 'storyline', 'strip', 'strong', 'struck', 'stuff',\n",
              "       'stunning', 'stupid', 'sturdy', 'style', 'sub', 'subtle', 'suck',\n",
              "       'sucked', 'super', 'superb', 'support', 'sure', 'sushi',\n",
              "       'suspense', 'sweet', 'table', 'taco', 'take', 'tale', 'talk',\n",
              "       'taste', 'tasted', 'tasteless', 'tasty', 'tea', 'tell', 'ten',\n",
              "       'tender', 'terrible', 'terrific', 'th', 'thai', 'thats', 'theater',\n",
              "       'theme', 'thin', 'thing', 'think', 'thinking', 'third',\n",
              "       'thoroughly', 'though', 'thought', 'three', 'thriller',\n",
              "       'throughout', 'thumb', 'time', 'tip', 'today', 'together', 'told',\n",
              "       'tom', 'tone', 'took', 'tool', 'top', 'torture', 'total',\n",
              "       'totally', 'touch', 'towards', 'town', 'trash', 'treo', 'tried',\n",
              "       'trip', 'trouble', 'true', 'truly', 'try', 'trying', 'turn',\n",
              "       'turned', 'tv', 'twice', 'two', 'type', 'unbelievable',\n",
              "       'understand', 'unfortunately', 'unit', 'unless', 'unreliable',\n",
              "       'ups', 'usb', 'use', 'used', 'useless', 'using', 'usual',\n",
              "       'utterly', 'value', 'vega', 'vegetable', 'verizon', 'vibe',\n",
              "       'video', 'visit', 'visual', 'voice', 'volume', 'wait', 'waited',\n",
              "       'waiter', 'waiting', 'waitress', 'walked', 'wall', 'want',\n",
              "       'wanted', 'warm', 'warning', 'waste', 'wasted', 'wasting', 'watch',\n",
              "       'watched', 'watching', 'water', 'way', 'weak', 'wear', 'website',\n",
              "       'week', 'weird', 'well', 'went', 'whatever', 'whatsoever',\n",
              "       'whether', 'white', 'whole', 'wife', 'wind', 'wine', 'wing',\n",
              "       'wish', 'within', 'without', 'wonderful', 'wonderfully', 'word',\n",
              "       'work', 'worked', 'working', 'world', 'worse', 'worst', 'worth',\n",
              "       'worthless', 'would', 'wow', 'writer', 'writing', 'written',\n",
              "       'wrong', 'year', 'yes', 'yet', 'young', 'yummy', 'zero'],\n",
              "      dtype=object)"
            ]
          },
          "metadata": {},
          "execution_count": 13
        }
      ]
    },
    {
      "cell_type": "code",
      "source": [
        "from sklearn.feature_extraction.text import TfidfTransformer\n",
        "tf_transformer = TfidfTransformer()\n",
        "X = tf_transformer.fit_transform(X).toarray()"
      ],
      "metadata": {
        "id": "fjHlsBZFOrpQ"
      },
      "execution_count": null,
      "outputs": []
    },
    {
      "cell_type": "code",
      "source": [
        "from sklearn.feature_extraction.text import TfidfVectorizer\n",
        "tfidfVectorizer = TfidfVectorizer(max_features =1000)\n",
        "X = tfidfVectorizer.fit_transform(corpus).toarray()"
      ],
      "metadata": {
        "id": "vD-8wLKIQ9c4"
      },
      "execution_count": null,
      "outputs": []
    },
    {
      "cell_type": "code",
      "source": [
        "from sklearn.model_selection import train_test_split\n",
        "X_train_s, X_test_s , y_train_s, y_test_s = train_test_split(X, y , test_size = 0.20, random_state=101)"
      ],
      "metadata": {
        "id": "BiSW2yviQ_mL"
      },
      "execution_count": null,
      "outputs": []
    },
    {
      "cell_type": "code",
      "source": [
        "!pip install catboost\n"
      ],
      "metadata": {
        "colab": {
          "base_uri": "https://localhost:8080/"
        },
        "id": "AszrOp2zRODn",
        "outputId": "6f43c25e-0486-467b-adc3-d8596e1a4ad6"
      },
      "execution_count": null,
      "outputs": [
        {
          "output_type": "stream",
          "name": "stdout",
          "text": [
            "Looking in indexes: https://pypi.org/simple, https://us-python.pkg.dev/colab-wheels/public/simple/\n",
            "Collecting catboost\n",
            "  Downloading catboost-1.2-cp310-cp310-manylinux2014_x86_64.whl (98.6 MB)\n",
            "\u001b[2K     \u001b[90m━━━━━━━━━━━━━━━━━━━━━━━━━━━━━━━━━━━━━━━━\u001b[0m \u001b[32m98.6/98.6 MB\u001b[0m \u001b[31m10.8 MB/s\u001b[0m eta \u001b[36m0:00:00\u001b[0m\n",
            "\u001b[?25hRequirement already satisfied: scipy in /usr/local/lib/python3.10/dist-packages (from catboost) (1.10.1)\n",
            "Requirement already satisfied: plotly in /usr/local/lib/python3.10/dist-packages (from catboost) (5.13.1)\n",
            "Requirement already satisfied: graphviz in /usr/local/lib/python3.10/dist-packages (from catboost) (0.20.1)\n",
            "Requirement already satisfied: matplotlib in /usr/local/lib/python3.10/dist-packages (from catboost) (3.7.1)\n",
            "Requirement already satisfied: six in /usr/local/lib/python3.10/dist-packages (from catboost) (1.16.0)\n",
            "Requirement already satisfied: numpy>=1.16.0 in /usr/local/lib/python3.10/dist-packages (from catboost) (1.22.4)\n",
            "Requirement already satisfied: pandas>=0.24 in /usr/local/lib/python3.10/dist-packages (from catboost) (1.5.3)\n",
            "Requirement already satisfied: python-dateutil>=2.8.1 in /usr/local/lib/python3.10/dist-packages (from pandas>=0.24->catboost) (2.8.2)\n",
            "Requirement already satisfied: pytz>=2020.1 in /usr/local/lib/python3.10/dist-packages (from pandas>=0.24->catboost) (2022.7.1)\n",
            "Requirement already satisfied: pyparsing>=2.3.1 in /usr/local/lib/python3.10/dist-packages (from matplotlib->catboost) (3.0.9)\n",
            "Requirement already satisfied: contourpy>=1.0.1 in /usr/local/lib/python3.10/dist-packages (from matplotlib->catboost) (1.0.7)\n",
            "Requirement already satisfied: packaging>=20.0 in /usr/local/lib/python3.10/dist-packages (from matplotlib->catboost) (23.1)\n",
            "Requirement already satisfied: pillow>=6.2.0 in /usr/local/lib/python3.10/dist-packages (from matplotlib->catboost) (8.4.0)\n",
            "Requirement already satisfied: fonttools>=4.22.0 in /usr/local/lib/python3.10/dist-packages (from matplotlib->catboost) (4.39.3)\n",
            "Requirement already satisfied: cycler>=0.10 in /usr/local/lib/python3.10/dist-packages (from matplotlib->catboost) (0.11.0)\n",
            "Requirement already satisfied: kiwisolver>=1.0.1 in /usr/local/lib/python3.10/dist-packages (from matplotlib->catboost) (1.4.4)\n",
            "Requirement already satisfied: tenacity>=6.2.0 in /usr/local/lib/python3.10/dist-packages (from plotly->catboost) (8.2.2)\n",
            "Installing collected packages: catboost\n",
            "Successfully installed catboost-1.2\n"
          ]
        }
      ]
    },
    {
      "cell_type": "code",
      "source": [
        "from sklearn.ensemble import GradientBoostingClassifier\n",
        "from sklearn.naive_bayes import GaussianNB\n",
        "# Naive Bayes is a statistical classification technique based on Bayes Theorem\n",
        "# common classifier used in sentiment analysis is the Naive Bayes Classifier.\n",
        "from sklearn.experimental import enable_hist_gradient_boosting\n",
        "from sklearn.ensemble import HistGradientBoostingClassifier # this is experimental\n",
        "from sklearn.ensemble import RandomForestClassifier\n",
        "from sklearn.linear_model import LogisticRegression\n",
        "from xgboost import XGBClassifier\n",
        "from lightgbm import LGBMClassifier\n",
        "from catboost import CatBoostClassifier\n",
        "classifiers = [GradientBoostingClassifier(),GaussianNB(),HistGradientBoostingClassifier(),\n",
        "RandomForestClassifier(),LogisticRegression(),XGBClassifier(),LGBMClassifier(),CatBoostClassifier(verbose=0)]"
      ],
      "metadata": {
        "id": "8CSHoufFRFD-",
        "colab": {
          "base_uri": "https://localhost:8080/"
        },
        "outputId": "bbdf5563-f6d0-4ccf-aa4d-896c2eb59c7d"
      },
      "execution_count": null,
      "outputs": [
        {
          "output_type": "stream",
          "name": "stderr",
          "text": [
            "/usr/local/lib/python3.10/dist-packages/sklearn/experimental/enable_hist_gradient_boosting.py:16: UserWarning: Since version 1.0, it is not needed to import enable_hist_gradient_boosting anymore. HistGradientBoostingClassifier and HistGradientBoostingRegressor are now stable and can be normally imported from sklearn.ensemble.\n",
            "  warnings.warn(\n"
          ]
        }
      ]
    },
    {
      "cell_type": "code",
      "source": [
        "from sklearn.metrics import confusion_matrix, classification_report,accuracy_score\n",
        "for classifier in classifiers:\n",
        "    classifier.fit(X_train_s,y_train_s)\n",
        "    print(f'The {classifier}  Accuracy  is {accuracy_score(y_test_s,classifier.predict(X_test_s)) }' )"
      ],
      "metadata": {
        "colab": {
          "base_uri": "https://localhost:8080/"
        },
        "id": "RNTxVN0SRVC_",
        "outputId": "0b1eae3a-23ac-4c22-ec43-352d9b97c76b"
      },
      "execution_count": null,
      "outputs": [
        {
          "output_type": "stream",
          "name": "stdout",
          "text": [
            "The GradientBoostingClassifier()  Accuracy  is 0.7533333333333333\n",
            "The GaussianNB()  Accuracy  is 0.7216666666666667\n",
            "The HistGradientBoostingClassifier()  Accuracy  is 0.68\n",
            "The RandomForestClassifier()  Accuracy  is 0.77\n",
            "The LogisticRegression()  Accuracy  is 0.7883333333333333\n",
            "The XGBClassifier(base_score=None, booster=None, callbacks=None,\n",
            "              colsample_bylevel=None, colsample_bynode=None,\n",
            "              colsample_bytree=None, early_stopping_rounds=None,\n",
            "              enable_categorical=False, eval_metric=None, feature_types=None,\n",
            "              gamma=None, gpu_id=None, grow_policy=None, importance_type=None,\n",
            "              interaction_constraints=None, learning_rate=None, max_bin=None,\n",
            "              max_cat_threshold=None, max_cat_to_onehot=None,\n",
            "              max_delta_step=None, max_depth=None, max_leaves=None,\n",
            "              min_child_weight=None, missing=nan, monotone_constraints=None,\n",
            "              n_estimators=100, n_jobs=None, num_parallel_tree=None,\n",
            "              predictor=None, random_state=None, ...)  Accuracy  is 0.7666666666666667\n",
            "The LGBMClassifier()  Accuracy  is 0.6766666666666666\n",
            "The <catboost.core.CatBoostClassifier object at 0x7fd8515e2710>  Accuracy  is 0.7633333333333333\n"
          ]
        }
      ]
    },
    {
      "cell_type": "code",
      "source": [
        "classifier = LogisticRegression()\n",
        "classifier.fit(X_train_s,y_train_s)\n",
        "predictions = classifier.predict(X_test_s)\n",
        "confusion_matrix(y_test_s, predictions)"
      ],
      "metadata": {
        "colab": {
          "base_uri": "https://localhost:8080/"
        },
        "id": "cyOgKi7WRYRL",
        "outputId": "a96abc89-da60-4968-fa80-5f36b116fbc8"
      },
      "execution_count": null,
      "outputs": [
        {
          "output_type": "execute_result",
          "data": {
            "text/plain": [
              "array([[238,  59],\n",
              "       [ 68, 235]])"
            ]
          },
          "metadata": {},
          "execution_count": 20
        }
      ]
    },
    {
      "cell_type": "code",
      "source": [
        "df.head()"
      ],
      "metadata": {
        "colab": {
          "base_uri": "https://localhost:8080/",
          "height": 206
        },
        "id": "P82jOS4MRg0B",
        "outputId": "95b48853-751d-4002-c9e2-0e4a2e7b944d"
      },
      "execution_count": null,
      "outputs": [
        {
          "output_type": "execute_result",
          "data": {
            "text/plain": [
              "                                              review  status\n",
              "0                     way plug u unless go converter       0\n",
              "1                          good case excellent value       1\n",
              "2                                      great jawbone       1\n",
              "3  tied charger conversation lasting minute major...       0\n",
              "4                                          mic great       1"
            ],
            "text/html": [
              "\n",
              "  <div id=\"df-7ce1b75e-26ca-4867-ae30-2117804c40b9\">\n",
              "    <div class=\"colab-df-container\">\n",
              "      <div>\n",
              "<style scoped>\n",
              "    .dataframe tbody tr th:only-of-type {\n",
              "        vertical-align: middle;\n",
              "    }\n",
              "\n",
              "    .dataframe tbody tr th {\n",
              "        vertical-align: top;\n",
              "    }\n",
              "\n",
              "    .dataframe thead th {\n",
              "        text-align: right;\n",
              "    }\n",
              "</style>\n",
              "<table border=\"1\" class=\"dataframe\">\n",
              "  <thead>\n",
              "    <tr style=\"text-align: right;\">\n",
              "      <th></th>\n",
              "      <th>review</th>\n",
              "      <th>status</th>\n",
              "    </tr>\n",
              "  </thead>\n",
              "  <tbody>\n",
              "    <tr>\n",
              "      <th>0</th>\n",
              "      <td>way plug u unless go converter</td>\n",
              "      <td>0</td>\n",
              "    </tr>\n",
              "    <tr>\n",
              "      <th>1</th>\n",
              "      <td>good case excellent value</td>\n",
              "      <td>1</td>\n",
              "    </tr>\n",
              "    <tr>\n",
              "      <th>2</th>\n",
              "      <td>great jawbone</td>\n",
              "      <td>1</td>\n",
              "    </tr>\n",
              "    <tr>\n",
              "      <th>3</th>\n",
              "      <td>tied charger conversation lasting minute major...</td>\n",
              "      <td>0</td>\n",
              "    </tr>\n",
              "    <tr>\n",
              "      <th>4</th>\n",
              "      <td>mic great</td>\n",
              "      <td>1</td>\n",
              "    </tr>\n",
              "  </tbody>\n",
              "</table>\n",
              "</div>\n",
              "      <button class=\"colab-df-convert\" onclick=\"convertToInteractive('df-7ce1b75e-26ca-4867-ae30-2117804c40b9')\"\n",
              "              title=\"Convert this dataframe to an interactive table.\"\n",
              "              style=\"display:none;\">\n",
              "        \n",
              "  <svg xmlns=\"http://www.w3.org/2000/svg\" height=\"24px\"viewBox=\"0 0 24 24\"\n",
              "       width=\"24px\">\n",
              "    <path d=\"M0 0h24v24H0V0z\" fill=\"none\"/>\n",
              "    <path d=\"M18.56 5.44l.94 2.06.94-2.06 2.06-.94-2.06-.94-.94-2.06-.94 2.06-2.06.94zm-11 1L8.5 8.5l.94-2.06 2.06-.94-2.06-.94L8.5 2.5l-.94 2.06-2.06.94zm10 10l.94 2.06.94-2.06 2.06-.94-2.06-.94-.94-2.06-.94 2.06-2.06.94z\"/><path d=\"M17.41 7.96l-1.37-1.37c-.4-.4-.92-.59-1.43-.59-.52 0-1.04.2-1.43.59L10.3 9.45l-7.72 7.72c-.78.78-.78 2.05 0 2.83L4 21.41c.39.39.9.59 1.41.59.51 0 1.02-.2 1.41-.59l7.78-7.78 2.81-2.81c.8-.78.8-2.07 0-2.86zM5.41 20L4 18.59l7.72-7.72 1.47 1.35L5.41 20z\"/>\n",
              "  </svg>\n",
              "      </button>\n",
              "      \n",
              "  <style>\n",
              "    .colab-df-container {\n",
              "      display:flex;\n",
              "      flex-wrap:wrap;\n",
              "      gap: 12px;\n",
              "    }\n",
              "\n",
              "    .colab-df-convert {\n",
              "      background-color: #E8F0FE;\n",
              "      border: none;\n",
              "      border-radius: 50%;\n",
              "      cursor: pointer;\n",
              "      display: none;\n",
              "      fill: #1967D2;\n",
              "      height: 32px;\n",
              "      padding: 0 0 0 0;\n",
              "      width: 32px;\n",
              "    }\n",
              "\n",
              "    .colab-df-convert:hover {\n",
              "      background-color: #E2EBFA;\n",
              "      box-shadow: 0px 1px 2px rgba(60, 64, 67, 0.3), 0px 1px 3px 1px rgba(60, 64, 67, 0.15);\n",
              "      fill: #174EA6;\n",
              "    }\n",
              "\n",
              "    [theme=dark] .colab-df-convert {\n",
              "      background-color: #3B4455;\n",
              "      fill: #D2E3FC;\n",
              "    }\n",
              "\n",
              "    [theme=dark] .colab-df-convert:hover {\n",
              "      background-color: #434B5C;\n",
              "      box-shadow: 0px 1px 3px 1px rgba(0, 0, 0, 0.15);\n",
              "      filter: drop-shadow(0px 1px 2px rgba(0, 0, 0, 0.3));\n",
              "      fill: #FFFFFF;\n",
              "    }\n",
              "  </style>\n",
              "\n",
              "      <script>\n",
              "        const buttonEl =\n",
              "          document.querySelector('#df-7ce1b75e-26ca-4867-ae30-2117804c40b9 button.colab-df-convert');\n",
              "        buttonEl.style.display =\n",
              "          google.colab.kernel.accessAllowed ? 'block' : 'none';\n",
              "\n",
              "        async function convertToInteractive(key) {\n",
              "          const element = document.querySelector('#df-7ce1b75e-26ca-4867-ae30-2117804c40b9');\n",
              "          const dataTable =\n",
              "            await google.colab.kernel.invokeFunction('convertToInteractive',\n",
              "                                                     [key], {});\n",
              "          if (!dataTable) return;\n",
              "\n",
              "          const docLinkHtml = 'Like what you see? Visit the ' +\n",
              "            '<a target=\"_blank\" href=https://colab.research.google.com/notebooks/data_table.ipynb>data table notebook</a>'\n",
              "            + ' to learn more about interactive tables.';\n",
              "          element.innerHTML = '';\n",
              "          dataTable['output_type'] = 'display_data';\n",
              "          await google.colab.output.renderOutput(dataTable, element);\n",
              "          const docLink = document.createElement('div');\n",
              "          docLink.innerHTML = docLinkHtml;\n",
              "          element.appendChild(docLink);\n",
              "        }\n",
              "      </script>\n",
              "    </div>\n",
              "  </div>\n",
              "  "
            ]
          },
          "metadata": {},
          "execution_count": 21
        }
      ]
    },
    {
      "cell_type": "markdown",
      "source": [
        "**CNN PART**"
      ],
      "metadata": {
        "id": "JS8Cqh4wR0NX"
      }
    },
    {
      "cell_type": "code",
      "source": [
        "docs = df['review']\n",
        "labels = df['status']\n",
        "from sklearn.model_selection import train_test_split\n",
        "X_train, X_test , y_train, y_test = train_test_split(docs, labels , test_size = 0.20)"
      ],
      "metadata": {
        "id": "jWsdDs96RpfZ"
      },
      "execution_count": null,
      "outputs": []
    },
    {
      "cell_type": "code",
      "source": [],
      "metadata": {
        "id": "9hkAgxJgRmKv"
      },
      "execution_count": null,
      "outputs": []
    },
    {
      "cell_type": "code",
      "source": [
        "from tensorflow.keras.preprocessing.text import one_hot\n",
        "\n",
        "vocab_size = 5000\n",
        "\n",
        "X_train = [one_hot(d, vocab_size,filters='!\"#$%&()*+,-./:;<=>?@[\\]^_`{|}~',lower=True, split=' ') for d in X_train]\n",
        "X_test = [one_hot(d, vocab_size,filters='!\"#$%&()*+,-./:;<=>?@[\\]^_`{|}~',lower=True, split=' ') for d in X_test]"
      ],
      "metadata": {
        "id": "rSmK95RyOlVb"
      },
      "execution_count": null,
      "outputs": []
    },
    {
      "cell_type": "code",
      "source": [
        "from tensorflow.keras.preprocessing.sequence import pad_sequences\n",
        "\n",
        "max_length = 100\n",
        "X_train = pad_sequences(X_train, maxlen=max_length, padding='post')\n",
        "X_test = pad_sequences(X_test, maxlen=max_length, padding='post')"
      ],
      "metadata": {
        "id": "97GZL8Y7Oneo"
      },
      "execution_count": null,
      "outputs": []
    },
    {
      "cell_type": "code",
      "source": [
        "import tensorflow"
      ],
      "metadata": {
        "id": "axziB5afxl7Q"
      },
      "execution_count": null,
      "outputs": []
    },
    {
      "cell_type": "code",
      "source": [
        "from tensorflow.keras.layers import Dense, Embedding,GlobalMaxPooling1D\n",
        "from tensorflow.keras.models import Sequential\n",
        "from tensorflow.keras.layers import Dense\n",
        "from tensorflow.keras.layers import Embedding\n",
        "\n",
        "model = Sequential([Embedding(vocab_size, 8, input_length=max_length),tensorflow.keras.layers.Conv1D(128, 5, activation='relu'),GlobalMaxPooling1D(),Dense(10, activation='relu'),Dense(1, activation='sigmoid')])"
      ],
      "metadata": {
        "id": "WoeQiuFnO1h_"
      },
      "execution_count": null,
      "outputs": []
    },
    {
      "cell_type": "code",
      "source": [
        "model.compile(optimizer='adam', loss='binary_crossentropy', metrics=['acc'])"
      ],
      "metadata": {
        "id": "wO028B8FQK4o"
      },
      "execution_count": null,
      "outputs": []
    },
    {
      "cell_type": "code",
      "source": [
        "history = model.fit(X_train, y_train, epochs=20, validation_data=(X_test, y_test))"
      ],
      "metadata": {
        "colab": {
          "base_uri": "https://localhost:8080/"
        },
        "id": "KBYV9I4JQOG3",
        "outputId": "78cbf2ef-9986-4e37-9199-aafd0c186505"
      },
      "execution_count": null,
      "outputs": [
        {
          "output_type": "stream",
          "name": "stdout",
          "text": [
            "Epoch 1/20\n",
            "75/75 [==============================] - 21s 143ms/step - loss: 0.6926 - acc: 0.5392 - val_loss: 0.6905 - val_acc: 0.6450\n",
            "Epoch 2/20\n",
            "75/75 [==============================] - 4s 56ms/step - loss: 0.6399 - acc: 0.7558 - val_loss: 0.5588 - val_acc: 0.7300\n",
            "Epoch 3/20\n",
            "75/75 [==============================] - 3s 36ms/step - loss: 0.3740 - acc: 0.8542 - val_loss: 0.5030 - val_acc: 0.7467\n",
            "Epoch 4/20\n",
            "75/75 [==============================] - 1s 18ms/step - loss: 0.2312 - acc: 0.9187 - val_loss: 0.5461 - val_acc: 0.7633\n",
            "Epoch 5/20\n",
            "75/75 [==============================] - 1s 13ms/step - loss: 0.1635 - acc: 0.9479 - val_loss: 0.5886 - val_acc: 0.7583\n",
            "Epoch 6/20\n",
            "75/75 [==============================] - 1s 10ms/step - loss: 0.1219 - acc: 0.9617 - val_loss: 0.6530 - val_acc: 0.7500\n",
            "Epoch 7/20\n",
            "75/75 [==============================] - 2s 20ms/step - loss: 0.0969 - acc: 0.9729 - val_loss: 0.7072 - val_acc: 0.7533\n",
            "Epoch 8/20\n",
            "75/75 [==============================] - 1s 19ms/step - loss: 0.0784 - acc: 0.9779 - val_loss: 0.7556 - val_acc: 0.7533\n",
            "Epoch 9/20\n",
            "75/75 [==============================] - 1s 11ms/step - loss: 0.0675 - acc: 0.9775 - val_loss: 0.8259 - val_acc: 0.7417\n",
            "Epoch 10/20\n",
            "75/75 [==============================] - 2s 26ms/step - loss: 0.0570 - acc: 0.9833 - val_loss: 0.8856 - val_acc: 0.7367\n",
            "Epoch 11/20\n",
            "75/75 [==============================] - 1s 10ms/step - loss: 0.0504 - acc: 0.9858 - val_loss: 0.9419 - val_acc: 0.7417\n",
            "Epoch 12/20\n",
            "75/75 [==============================] - 0s 4ms/step - loss: 0.0417 - acc: 0.9871 - val_loss: 1.0218 - val_acc: 0.7350\n",
            "Epoch 13/20\n",
            "75/75 [==============================] - 1s 10ms/step - loss: 0.0359 - acc: 0.9879 - val_loss: 1.0606 - val_acc: 0.7383\n",
            "Epoch 14/20\n",
            "75/75 [==============================] - 1s 10ms/step - loss: 0.0332 - acc: 0.9883 - val_loss: 1.1382 - val_acc: 0.7350\n",
            "Epoch 15/20\n",
            "75/75 [==============================] - 0s 5ms/step - loss: 0.0296 - acc: 0.9883 - val_loss: 1.1815 - val_acc: 0.7350\n",
            "Epoch 16/20\n",
            "75/75 [==============================] - 1s 10ms/step - loss: 0.0253 - acc: 0.9917 - val_loss: 1.2166 - val_acc: 0.7383\n",
            "Epoch 17/20\n",
            "75/75 [==============================] - 0s 5ms/step - loss: 0.0209 - acc: 0.9921 - val_loss: 1.2559 - val_acc: 0.7483\n",
            "Epoch 18/20\n",
            "75/75 [==============================] - 1s 7ms/step - loss: 0.0174 - acc: 0.9937 - val_loss: 1.3078 - val_acc: 0.7450\n",
            "Epoch 19/20\n",
            "75/75 [==============================] - 0s 5ms/step - loss: 0.0161 - acc: 0.9933 - val_loss: 1.3472 - val_acc: 0.7400\n",
            "Epoch 20/20\n",
            "75/75 [==============================] - 1s 7ms/step - loss: 0.0150 - acc: 0.9942 - val_loss: 1.4188 - val_acc: 0.7283\n"
          ]
        }
      ]
    },
    {
      "cell_type": "code",
      "source": [
        "loss, accuracy = model.evaluate(X_test,y_test)\n",
        "print('Testing Accuracy is {} '.format(accuracy*100))"
      ],
      "metadata": {
        "colab": {
          "base_uri": "https://localhost:8080/"
        },
        "id": "9KgY9vHlQTpO",
        "outputId": "8eb15d23-be15-4d8b-b2bc-e198714cdd2c"
      },
      "execution_count": null,
      "outputs": [
        {
          "output_type": "stream",
          "name": "stdout",
          "text": [
            "19/19 [==============================] - 0s 2ms/step - loss: 1.4188 - acc: 0.7283\n",
            "Testing Accuracy is 72.83333539962769 \n"
          ]
        }
      ]
    },
    {
      "cell_type": "code",
      "source": [
        "X = df['review']\n",
        "y = df['status']\n",
        "from sklearn.model_selection import train_test_split\n",
        "X_train, X_test , y_train, y_test = train_test_split(X, y , test_size = 0.20)\n"
      ],
      "metadata": {
        "id": "UYKGatL3TkNa"
      },
      "execution_count": null,
      "outputs": []
    },
    {
      "cell_type": "code",
      "source": [
        "from tensorflow.keras.preprocessing.text import Tokenizer\n",
        "vocab_size = 5000\n",
        "oov_token = \"<OOV>\"\n",
        "tokenizer = Tokenizer(num_words = vocab_size, oov_token=oov_token)\n",
        "tokenizer.fit_on_texts(X_train)"
      ],
      "metadata": {
        "id": "S8y5IzqmSJKg"
      },
      "execution_count": null,
      "outputs": []
    },
    {
      "cell_type": "code",
      "source": [
        "X_train_sequences = tokenizer.texts_to_sequences(X_train)\n",
        "X_test_sequences = tokenizer.texts_to_sequences(X_test)"
      ],
      "metadata": {
        "id": "DSU2jwcuSLYg"
      },
      "execution_count": null,
      "outputs": []
    },
    {
      "cell_type": "code",
      "source": [
        "from keras.utils import pad_sequences"
      ],
      "metadata": {
        "id": "1eBDPbgt7LC5"
      },
      "execution_count": null,
      "outputs": []
    },
    {
      "cell_type": "code",
      "source": [
        "max_length = 100\n",
        "padding_type = \"post\"\n",
        "trunction_type=\"post\"\n",
        "X_train_padded = pad_sequences(X_train_sequences,maxlen=max_length, padding=padding_type,truncating=trunction_type)\n",
        "X_test_padded = pad_sequences(X_test_sequences,maxlen=max_length,padding=padding_type, truncating=trunction_type)"
      ],
      "metadata": {
        "id": "7jsF4btbSPvc"
      },
      "execution_count": null,
      "outputs": []
    },
    {
      "cell_type": "code",
      "source": [
        "import numpy as np\n"
      ],
      "metadata": {
        "id": "CZK3SCGw7kSp"
      },
      "execution_count": null,
      "outputs": []
    },
    {
      "cell_type": "code",
      "source": [
        "\n",
        "embeddings_index = {}\n",
        "f = open('/content/drive/MyDrive/glove.6B.100d.txt')\n",
        "for line in f:\n",
        "    values = line.split()\n",
        "    word = values[0]\n",
        "    coefs = np.asarray(values[1:], dtype='float32')\n",
        "    embeddings_index[word] = coefs\n",
        "f.close()\n",
        "\n",
        "print('Found %s word vectors.' % len(embeddings_index))"
      ],
      "metadata": {
        "colab": {
          "base_uri": "https://localhost:8080/"
        },
        "id": "-nzCAwftXP6A",
        "outputId": "bac4a5ad-8106-4035-d0b2-cbf51b79c880"
      },
      "execution_count": null,
      "outputs": [
        {
          "output_type": "stream",
          "name": "stdout",
          "text": [
            "Found 400000 word vectors.\n"
          ]
        }
      ]
    },
    {
      "cell_type": "code",
      "source": [
        "embeddings_index.get(\"paper\")"
      ],
      "metadata": {
        "id": "pLQahmTThNEd",
        "colab": {
          "base_uri": "https://localhost:8080/"
        },
        "outputId": "920e6fd7-d268-4860-8a29-a3c41325ff00"
      },
      "execution_count": null,
      "outputs": [
        {
          "output_type": "execute_result",
          "data": {
            "text/plain": [
              "array([-0.85034  ,  0.33358  , -0.65889  , -0.49871  ,  0.36585  ,\n",
              "       -0.19245  ,  0.25658  , -0.053408 ,  0.31474  ,  0.2443   ,\n",
              "        0.29337  , -0.44917  ,  0.15175  ,  0.39314  , -0.31786  ,\n",
              "        0.060525 ,  0.81775  , -0.38847  ,  0.76761  , -1.1041   ,\n",
              "       -0.1544   ,  0.31655  , -0.37238  , -0.11485  ,  0.51635  ,\n",
              "       -0.39289  ,  0.16301  , -0.2532   , -0.50976  ,  0.15201  ,\n",
              "        0.27808  ,  0.52522  , -0.38815  , -0.3472   , -0.61818  ,\n",
              "        0.17022  ,  0.12251  , -0.24191  , -0.38877  , -0.53176  ,\n",
              "       -0.46987  , -0.70502  , -0.62126  , -0.38689  , -0.85637  ,\n",
              "       -0.41003  , -0.47487  , -0.21083  , -0.81338  , -0.52398  ,\n",
              "        0.49894  ,  0.37909  ,  0.55428  ,  1.123    , -0.42121  ,\n",
              "       -1.5674   , -0.56892  ,  0.40819  ,  1.7949   ,  0.16856  ,\n",
              "       -0.0029332,  0.28786  , -0.90088  , -0.094214 ,  0.79993  ,\n",
              "       -0.39096  ,  0.76286  ,  0.71307  ,  0.13194  , -0.40756  ,\n",
              "       -0.18687  ,  0.89562  ,  0.46867  , -0.0028801,  0.025306 ,\n",
              "        1.0084   ,  0.17135  ,  0.59742  , -1.1003   ,  0.49305  ,\n",
              "        0.41782  ,  0.17285  , -0.49474  ,  0.087837 , -0.9669   ,\n",
              "       -1.092    ,  0.33896  , -0.51288  ,  0.24643  ,  0.27141  ,\n",
              "        0.24206  , -0.21707  ,  0.55035  ,  0.0082243, -0.45572  ,\n",
              "        0.13528  , -0.043146 , -0.41408  ,  0.70051  ,  0.18775  ],\n",
              "      dtype=float32)"
            ]
          },
          "metadata": {},
          "execution_count": 37
        }
      ]
    },
    {
      "cell_type": "code",
      "source": [
        "import numpy as np"
      ],
      "metadata": {
        "id": "NNVqTV9W6QeO"
      },
      "execution_count": null,
      "outputs": []
    },
    {
      "cell_type": "code",
      "source": [
        "embedding_matrix = np.zeros((len(embeddings_index) + 1, max_length))\n",
        "for word, i in embeddings_index.items():\n",
        "    embedding_vector = embeddings_index.get(word)\n",
        "    if embedding_vector is not None:\n",
        "        # words not found in embedding index will be all-zeros.\n",
        "        embedding_matrix[i.astype(int)] = embedding_vector.astype(int)"
      ],
      "metadata": {
        "id": "VxhTTAOchQjl"
      },
      "execution_count": null,
      "outputs": []
    },
    {
      "cell_type": "code",
      "source": [
        "embedding_layer = Embedding(input_dim=len(embeddings_index) + 1,output_dim=max_length,weights=[embedding_matrix],input_length=max_length,trainable=False)"
      ],
      "metadata": {
        "id": "NEffGj8whTJz"
      },
      "execution_count": null,
      "outputs": []
    },
    {
      "cell_type": "code",
      "source": [
        "type(embedding_layer)"
      ],
      "metadata": {
        "colab": {
          "base_uri": "https://localhost:8080/"
        },
        "id": "keBlC94xSK9W",
        "outputId": "19145e07-6a0f-4fb3-ccf1-faa75bcc87c9"
      },
      "execution_count": null,
      "outputs": [
        {
          "output_type": "execute_result",
          "data": {
            "text/plain": [
              "keras.layers.core.embedding.Embedding"
            ]
          },
          "metadata": {},
          "execution_count": 41
        }
      ]
    },
    {
      "cell_type": "code",
      "source": [
        "model = Sequential([\n",
        "    embedding_layer,\n",
        "  tensorflow.keras.layers.Conv1D(128, 5, activation='relu'),\n",
        "    GlobalMaxPooling1D(),\n",
        "  Dense(10, activation='relu'),\n",
        "  Dense(1, activation='sigmoid')\n",
        "])"
      ],
      "metadata": {
        "id": "UMxAf0ouRJKk"
      },
      "execution_count": null,
      "outputs": []
    },
    {
      "cell_type": "code",
      "source": [
        "model.compile(loss='binary_crossentropy',optimizer='adam',metrics=['accuracy'])"
      ],
      "metadata": {
        "id": "f6LObYKfRcLa"
      },
      "execution_count": null,
      "outputs": []
    },
    {
      "cell_type": "code",
      "source": [
        "history = model.fit(X_train_padded, y_train, epochs=80, validation_data=(X_test_padded, y_test))"
      ],
      "metadata": {
        "colab": {
          "base_uri": "https://localhost:8080/"
        },
        "id": "97TkRb-kSowi",
        "outputId": "4814954f-d63b-4290-ad21-c2b6d3017e1f"
      },
      "execution_count": null,
      "outputs": [
        {
          "output_type": "stream",
          "name": "stdout",
          "text": [
            "Epoch 1/80\n",
            "75/75 [==============================] - 2s 7ms/step - loss: 0.6585 - accuracy: 0.5962 - val_loss: 0.6522 - val_accuracy: 0.5700\n",
            "Epoch 2/80\n",
            "75/75 [==============================] - 0s 4ms/step - loss: 0.6464 - accuracy: 0.5992 - val_loss: 0.6492 - val_accuracy: 0.5883\n",
            "Epoch 3/80\n",
            "75/75 [==============================] - 0s 4ms/step - loss: 0.6448 - accuracy: 0.5992 - val_loss: 0.6471 - val_accuracy: 0.5967\n",
            "Epoch 4/80\n",
            "75/75 [==============================] - 0s 4ms/step - loss: 0.6440 - accuracy: 0.5992 - val_loss: 0.6471 - val_accuracy: 0.5817\n",
            "Epoch 5/80\n",
            "75/75 [==============================] - 0s 4ms/step - loss: 0.6425 - accuracy: 0.5992 - val_loss: 0.6474 - val_accuracy: 0.5817\n",
            "Epoch 6/80\n",
            "75/75 [==============================] - 0s 4ms/step - loss: 0.6430 - accuracy: 0.5992 - val_loss: 0.6475 - val_accuracy: 0.5817\n",
            "Epoch 7/80\n",
            "75/75 [==============================] - 0s 4ms/step - loss: 0.6428 - accuracy: 0.5992 - val_loss: 0.6456 - val_accuracy: 0.5817\n",
            "Epoch 8/80\n",
            "75/75 [==============================] - 0s 4ms/step - loss: 0.6422 - accuracy: 0.5992 - val_loss: 0.6476 - val_accuracy: 0.5817\n",
            "Epoch 9/80\n",
            "75/75 [==============================] - 0s 4ms/step - loss: 0.6447 - accuracy: 0.5992 - val_loss: 0.6489 - val_accuracy: 0.5817\n",
            "Epoch 10/80\n",
            "75/75 [==============================] - 0s 4ms/step - loss: 0.6429 - accuracy: 0.5992 - val_loss: 0.6464 - val_accuracy: 0.5817\n",
            "Epoch 11/80\n",
            "75/75 [==============================] - 0s 4ms/step - loss: 0.6425 - accuracy: 0.5992 - val_loss: 0.6456 - val_accuracy: 0.5817\n",
            "Epoch 12/80\n",
            "75/75 [==============================] - 0s 4ms/step - loss: 0.6425 - accuracy: 0.5992 - val_loss: 0.6457 - val_accuracy: 0.5817\n",
            "Epoch 13/80\n",
            "75/75 [==============================] - 0s 4ms/step - loss: 0.6425 - accuracy: 0.5992 - val_loss: 0.6472 - val_accuracy: 0.5817\n",
            "Epoch 14/80\n",
            "75/75 [==============================] - 0s 4ms/step - loss: 0.6428 - accuracy: 0.5992 - val_loss: 0.6463 - val_accuracy: 0.5817\n",
            "Epoch 15/80\n",
            "75/75 [==============================] - 0s 4ms/step - loss: 0.6426 - accuracy: 0.5992 - val_loss: 0.6461 - val_accuracy: 0.5817\n",
            "Epoch 16/80\n",
            "75/75 [==============================] - 0s 4ms/step - loss: 0.6419 - accuracy: 0.5992 - val_loss: 0.6458 - val_accuracy: 0.5817\n",
            "Epoch 17/80\n",
            "75/75 [==============================] - 0s 4ms/step - loss: 0.6425 - accuracy: 0.5992 - val_loss: 0.6462 - val_accuracy: 0.5817\n",
            "Epoch 18/80\n",
            "75/75 [==============================] - 0s 4ms/step - loss: 0.6423 - accuracy: 0.5992 - val_loss: 0.6474 - val_accuracy: 0.5817\n",
            "Epoch 19/80\n",
            "75/75 [==============================] - 0s 4ms/step - loss: 0.6424 - accuracy: 0.5992 - val_loss: 0.6459 - val_accuracy: 0.5817\n",
            "Epoch 20/80\n",
            "75/75 [==============================] - 0s 4ms/step - loss: 0.6419 - accuracy: 0.5992 - val_loss: 0.6454 - val_accuracy: 0.5817\n",
            "Epoch 21/80\n",
            "75/75 [==============================] - 0s 4ms/step - loss: 0.6422 - accuracy: 0.5992 - val_loss: 0.6454 - val_accuracy: 0.5817\n",
            "Epoch 22/80\n",
            "75/75 [==============================] - 0s 4ms/step - loss: 0.6417 - accuracy: 0.5992 - val_loss: 0.6468 - val_accuracy: 0.5817\n",
            "Epoch 23/80\n",
            "75/75 [==============================] - 0s 4ms/step - loss: 0.6419 - accuracy: 0.5992 - val_loss: 0.6462 - val_accuracy: 0.5817\n",
            "Epoch 24/80\n",
            "75/75 [==============================] - 0s 4ms/step - loss: 0.6423 - accuracy: 0.5992 - val_loss: 0.6460 - val_accuracy: 0.5817\n",
            "Epoch 25/80\n",
            "75/75 [==============================] - 0s 4ms/step - loss: 0.6419 - accuracy: 0.5992 - val_loss: 0.6461 - val_accuracy: 0.5817\n",
            "Epoch 26/80\n",
            "75/75 [==============================] - 0s 4ms/step - loss: 0.6418 - accuracy: 0.5992 - val_loss: 0.6470 - val_accuracy: 0.5817\n",
            "Epoch 27/80\n",
            "75/75 [==============================] - 0s 4ms/step - loss: 0.6418 - accuracy: 0.5992 - val_loss: 0.6463 - val_accuracy: 0.5817\n",
            "Epoch 28/80\n",
            "75/75 [==============================] - 0s 4ms/step - loss: 0.6418 - accuracy: 0.5992 - val_loss: 0.6469 - val_accuracy: 0.5817\n",
            "Epoch 29/80\n",
            "75/75 [==============================] - 0s 6ms/step - loss: 0.6421 - accuracy: 0.5992 - val_loss: 0.6469 - val_accuracy: 0.5817\n",
            "Epoch 30/80\n",
            "75/75 [==============================] - 0s 6ms/step - loss: 0.6421 - accuracy: 0.5992 - val_loss: 0.6470 - val_accuracy: 0.5817\n",
            "Epoch 31/80\n",
            "75/75 [==============================] - 0s 6ms/step - loss: 0.6427 - accuracy: 0.5992 - val_loss: 0.6477 - val_accuracy: 0.5817\n",
            "Epoch 32/80\n",
            "75/75 [==============================] - 0s 6ms/step - loss: 0.6419 - accuracy: 0.5992 - val_loss: 0.6465 - val_accuracy: 0.5817\n",
            "Epoch 33/80\n",
            "75/75 [==============================] - 0s 5ms/step - loss: 0.6421 - accuracy: 0.5992 - val_loss: 0.6463 - val_accuracy: 0.5817\n",
            "Epoch 34/80\n",
            "75/75 [==============================] - 0s 6ms/step - loss: 0.6420 - accuracy: 0.5992 - val_loss: 0.6463 - val_accuracy: 0.5817\n",
            "Epoch 35/80\n",
            "75/75 [==============================] - 0s 6ms/step - loss: 0.6422 - accuracy: 0.5992 - val_loss: 0.6470 - val_accuracy: 0.5817\n",
            "Epoch 36/80\n",
            "75/75 [==============================] - 0s 6ms/step - loss: 0.6424 - accuracy: 0.5992 - val_loss: 0.6466 - val_accuracy: 0.5817\n",
            "Epoch 37/80\n",
            "75/75 [==============================] - 0s 6ms/step - loss: 0.6417 - accuracy: 0.5992 - val_loss: 0.6461 - val_accuracy: 0.5817\n",
            "Epoch 38/80\n",
            "75/75 [==============================] - 0s 4ms/step - loss: 0.6423 - accuracy: 0.5992 - val_loss: 0.6463 - val_accuracy: 0.5817\n",
            "Epoch 39/80\n",
            "75/75 [==============================] - 0s 4ms/step - loss: 0.6423 - accuracy: 0.5992 - val_loss: 0.6472 - val_accuracy: 0.5817\n",
            "Epoch 40/80\n",
            "75/75 [==============================] - 0s 4ms/step - loss: 0.6416 - accuracy: 0.5992 - val_loss: 0.6465 - val_accuracy: 0.5817\n",
            "Epoch 41/80\n",
            "75/75 [==============================] - 0s 4ms/step - loss: 0.6421 - accuracy: 0.5992 - val_loss: 0.6471 - val_accuracy: 0.5817\n",
            "Epoch 42/80\n",
            "75/75 [==============================] - 0s 4ms/step - loss: 0.6420 - accuracy: 0.5992 - val_loss: 0.6468 - val_accuracy: 0.5817\n",
            "Epoch 43/80\n",
            "75/75 [==============================] - 0s 5ms/step - loss: 0.6415 - accuracy: 0.5992 - val_loss: 0.6465 - val_accuracy: 0.5817\n",
            "Epoch 44/80\n",
            "75/75 [==============================] - 0s 4ms/step - loss: 0.6422 - accuracy: 0.5992 - val_loss: 0.6467 - val_accuracy: 0.5817\n",
            "Epoch 45/80\n",
            "75/75 [==============================] - 0s 4ms/step - loss: 0.6416 - accuracy: 0.5992 - val_loss: 0.6470 - val_accuracy: 0.5817\n",
            "Epoch 46/80\n",
            "75/75 [==============================] - 0s 4ms/step - loss: 0.6419 - accuracy: 0.5992 - val_loss: 0.6480 - val_accuracy: 0.5817\n",
            "Epoch 47/80\n",
            "75/75 [==============================] - 0s 4ms/step - loss: 0.6416 - accuracy: 0.5992 - val_loss: 0.6470 - val_accuracy: 0.5817\n",
            "Epoch 48/80\n",
            "75/75 [==============================] - 0s 4ms/step - loss: 0.6418 - accuracy: 0.5992 - val_loss: 0.6465 - val_accuracy: 0.5817\n",
            "Epoch 49/80\n",
            "75/75 [==============================] - 0s 4ms/step - loss: 0.6418 - accuracy: 0.5992 - val_loss: 0.6461 - val_accuracy: 0.5817\n",
            "Epoch 50/80\n",
            "75/75 [==============================] - 0s 4ms/step - loss: 0.6420 - accuracy: 0.5992 - val_loss: 0.6462 - val_accuracy: 0.5817\n",
            "Epoch 51/80\n",
            "75/75 [==============================] - 0s 4ms/step - loss: 0.6415 - accuracy: 0.5992 - val_loss: 0.6471 - val_accuracy: 0.5817\n",
            "Epoch 52/80\n",
            "75/75 [==============================] - 0s 4ms/step - loss: 0.6415 - accuracy: 0.5992 - val_loss: 0.6461 - val_accuracy: 0.5817\n",
            "Epoch 53/80\n",
            "75/75 [==============================] - 0s 5ms/step - loss: 0.6419 - accuracy: 0.5992 - val_loss: 0.6471 - val_accuracy: 0.5817\n",
            "Epoch 54/80\n",
            "75/75 [==============================] - 0s 4ms/step - loss: 0.6418 - accuracy: 0.5992 - val_loss: 0.6467 - val_accuracy: 0.5817\n",
            "Epoch 55/80\n",
            "75/75 [==============================] - 0s 5ms/step - loss: 0.6418 - accuracy: 0.5992 - val_loss: 0.6473 - val_accuracy: 0.5817\n",
            "Epoch 56/80\n",
            "75/75 [==============================] - 0s 4ms/step - loss: 0.6420 - accuracy: 0.5992 - val_loss: 0.6462 - val_accuracy: 0.5817\n",
            "Epoch 57/80\n",
            "75/75 [==============================] - 0s 4ms/step - loss: 0.6417 - accuracy: 0.5992 - val_loss: 0.6466 - val_accuracy: 0.5817\n",
            "Epoch 58/80\n",
            "75/75 [==============================] - 0s 4ms/step - loss: 0.6419 - accuracy: 0.5992 - val_loss: 0.6475 - val_accuracy: 0.5817\n",
            "Epoch 59/80\n",
            "75/75 [==============================] - 0s 5ms/step - loss: 0.6420 - accuracy: 0.5992 - val_loss: 0.6467 - val_accuracy: 0.5817\n",
            "Epoch 60/80\n",
            "75/75 [==============================] - 0s 5ms/step - loss: 0.6416 - accuracy: 0.5992 - val_loss: 0.6462 - val_accuracy: 0.5817\n",
            "Epoch 61/80\n",
            "75/75 [==============================] - 0s 4ms/step - loss: 0.6423 - accuracy: 0.5992 - val_loss: 0.6464 - val_accuracy: 0.5817\n",
            "Epoch 62/80\n",
            "75/75 [==============================] - 0s 4ms/step - loss: 0.6419 - accuracy: 0.5992 - val_loss: 0.6477 - val_accuracy: 0.5817\n",
            "Epoch 63/80\n",
            "75/75 [==============================] - 0s 4ms/step - loss: 0.6414 - accuracy: 0.5992 - val_loss: 0.6468 - val_accuracy: 0.5817\n",
            "Epoch 64/80\n",
            "75/75 [==============================] - 0s 4ms/step - loss: 0.6418 - accuracy: 0.5992 - val_loss: 0.6464 - val_accuracy: 0.5817\n",
            "Epoch 65/80\n",
            "75/75 [==============================] - 0s 4ms/step - loss: 0.6417 - accuracy: 0.5992 - val_loss: 0.6476 - val_accuracy: 0.5817\n",
            "Epoch 66/80\n",
            "75/75 [==============================] - 0s 4ms/step - loss: 0.6418 - accuracy: 0.5992 - val_loss: 0.6466 - val_accuracy: 0.5817\n",
            "Epoch 67/80\n",
            "75/75 [==============================] - 0s 5ms/step - loss: 0.6418 - accuracy: 0.5992 - val_loss: 0.6474 - val_accuracy: 0.5817\n",
            "Epoch 68/80\n",
            "75/75 [==============================] - 0s 6ms/step - loss: 0.6417 - accuracy: 0.5992 - val_loss: 0.6466 - val_accuracy: 0.5817\n",
            "Epoch 69/80\n",
            "75/75 [==============================] - 0s 6ms/step - loss: 0.6437 - accuracy: 0.5992 - val_loss: 0.6483 - val_accuracy: 0.5817\n",
            "Epoch 70/80\n",
            "75/75 [==============================] - 0s 6ms/step - loss: 0.6416 - accuracy: 0.5992 - val_loss: 0.6466 - val_accuracy: 0.5817\n",
            "Epoch 71/80\n",
            "75/75 [==============================] - 0s 6ms/step - loss: 0.6417 - accuracy: 0.5992 - val_loss: 0.6469 - val_accuracy: 0.5817\n",
            "Epoch 72/80\n",
            "75/75 [==============================] - 1s 7ms/step - loss: 0.6414 - accuracy: 0.5992 - val_loss: 0.6464 - val_accuracy: 0.5817\n",
            "Epoch 73/80\n",
            "75/75 [==============================] - 0s 6ms/step - loss: 0.6421 - accuracy: 0.5992 - val_loss: 0.6473 - val_accuracy: 0.5817\n",
            "Epoch 74/80\n",
            "75/75 [==============================] - 0s 6ms/step - loss: 0.6414 - accuracy: 0.5992 - val_loss: 0.6471 - val_accuracy: 0.5817\n",
            "Epoch 75/80\n",
            "75/75 [==============================] - 0s 6ms/step - loss: 0.6418 - accuracy: 0.5992 - val_loss: 0.6471 - val_accuracy: 0.5817\n",
            "Epoch 76/80\n",
            "75/75 [==============================] - 0s 5ms/step - loss: 0.6417 - accuracy: 0.5992 - val_loss: 0.6473 - val_accuracy: 0.5817\n",
            "Epoch 77/80\n",
            "75/75 [==============================] - 0s 4ms/step - loss: 0.6419 - accuracy: 0.5992 - val_loss: 0.6474 - val_accuracy: 0.5817\n",
            "Epoch 78/80\n",
            "75/75 [==============================] - 0s 4ms/step - loss: 0.6416 - accuracy: 0.5992 - val_loss: 0.6468 - val_accuracy: 0.5817\n",
            "Epoch 79/80\n",
            "75/75 [==============================] - 0s 5ms/step - loss: 0.6420 - accuracy: 0.5992 - val_loss: 0.6470 - val_accuracy: 0.5817\n",
            "Epoch 80/80\n",
            "75/75 [==============================] - 1s 8ms/step - loss: 0.6417 - accuracy: 0.5992 - val_loss: 0.6466 - val_accuracy: 0.5817\n"
          ]
        }
      ]
    },
    {
      "cell_type": "code",
      "source": [
        "loss, accuracy = model.evaluate(X_test_padded,y_test)\n",
        "print('Testing Accuracy is {} '.format(accuracy*100))"
      ],
      "metadata": {
        "colab": {
          "base_uri": "https://localhost:8080/"
        },
        "id": "IkoOKkIoSqq-",
        "outputId": "97af9ea3-5fac-42ab-9d96-4bab96c119b9"
      },
      "execution_count": null,
      "outputs": [
        {
          "output_type": "stream",
          "name": "stdout",
          "text": [
            "19/19 [==============================] - 0s 4ms/step - loss: 0.6466 - accuracy: 0.5817\n",
            "Testing Accuracy is 58.166664838790894 \n"
          ]
        }
      ]
    },
    {
      "cell_type": "code",
      "source": [
        "import matplotlib.pyplot as plt\n",
        "%matplotlib inline"
      ],
      "metadata": {
        "id": "STRqSlzDRTqd"
      },
      "execution_count": null,
      "outputs": []
    },
    {
      "cell_type": "code",
      "source": [
        "plt.plot(history.history['accuracy'])\n",
        "plt.plot(history.history['val_accuracy'])\n",
        "plt.title('model accuracy')\n",
        "plt.ylabel('accuracy')\n",
        "plt.xlabel('epoch')\n",
        "plt.legend(['train', 'validation'], loc='upper left')\n",
        "plt.show()\n",
        "\n",
        "plt.plot(history.history['loss'])\n",
        "plt.plot(history.history['val_loss'])\n",
        "plt.title('model loss')\n",
        "plt.ylabel('loss')\n",
        "plt.xlabel('epoch')\n",
        "plt.legend(['train', 'validation'], loc='upper left')\n",
        "plt.show()"
      ],
      "metadata": {
        "id": "vEFLT9TvSw_R",
        "colab": {
          "base_uri": "https://localhost:8080/",
          "height": 927
        },
        "outputId": "56b5769e-9fa2-4bea-cbaf-5fc713670a38"
      },
      "execution_count": null,
      "outputs": [
        {
          "output_type": "display_data",
          "data": {
            "text/plain": [
              "<Figure size 640x480 with 1 Axes>"
            ],
            "image/png": "[encoded data removed]"
          },
          "metadata": {}
        },
        {
          "output_type": "display_data",
          "data": {
            "text/plain": [
              "<Figure size 640x480 with 1 Axes>"
            ],
            "image/png": "[encoded data removed]"
          },
          "metadata": {}
        }
      ]
    },
    {
      "cell_type": "code",
      "source": [
        "input_data = X_train_padded\n",
        "prediction = model.predict(input_data)\n"
      ],
      "metadata": {
        "colab": {
          "base_uri": "https://localhost:8080/"
        },
        "id": "grDj2BtsRXMg",
        "outputId": "d326479b-2c99-4cd3-a07e-d814888daa45"
      },
      "execution_count": null,
      "outputs": [
        {
          "output_type": "stream",
          "name": "stdout",
          "text": [
            "75/75 [==============================] - 1s 4ms/step\n"
          ]
        }
      ]
    },
    {
      "cell_type": "code",
      "source": [
        "if prediction[100] <= 0.5:\n",
        "    print('Positive Sentiment')\n",
        "else:\n",
        "    print('Negative Sentiment')"
      ],
      "metadata": {
        "colab": {
          "base_uri": "https://localhost:8080/"
        },
        "id": "PzePYsIIUzh1",
        "outputId": "6bf3dc37-5a06-4f0a-b55a-ff9c33b55029"
      },
      "execution_count": null,
      "outputs": [
        {
          "output_type": "stream",
          "name": "stdout",
          "text": [
            "Positive Sentiment\n"
          ]
        }
      ]
    },
    {
      "cell_type": "code",
      "source": [
        "df['review'][100]"
      ],
      "metadata": {
        "colab": {
          "base_uri": "https://localhost:8080/",
          "height": 36
        },
        "id": "tVIim0mhT6jg",
        "outputId": "c8ec5c78-e7b9-4ede-9069-29c1de7dc75e"
      },
      "execution_count": null,
      "outputs": [
        {
          "output_type": "execute_result",
          "data": {
            "text/plain": [
              "'integrated seamlessly motorola razr phone'"
            ],
            "application/vnd.google.colaboratory.intrinsic+json": {
              "type": "string"
            }
          },
          "metadata": {},
          "execution_count": 60
        }
      ]
    },
    {
      "cell_type": "code",
      "source": [],
      "metadata": {
        "id": "a7ZJLJi0SLG_"
      },
      "execution_count": null,
      "outputs": []
    }
  ]
}